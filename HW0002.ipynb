{
 "cells": [
  {
   "cell_type": "markdown",
   "metadata": {},
   "source": [
    "HW0002：\n",
    "\n",
    "◎ 基本題 \n",
    "1. 產生五個亂數，並將其輸出。\n",
    "2. 產生N個介於-1與1之間的亂數，計算其平均值與標準差並輸出，每個亂數的值則不用輸出。N=10^1, 10^2, 10^3, 10^4, 10^5。\n",
    "\n",
    "◎ 進階題\n",
    "3. 做基本題2時，一併輸出產生每N個亂數前後的系統時間，並計算所需的時間。 \n",
    "4. 自己寫一個亂數產生器。"
   ]
  },
  {
   "cell_type": "markdown",
   "metadata": {},
   "source": [
    "## 1.產生五個亂數，並將其輸出。"
   ]
  },
  {
   "cell_type": "code",
   "execution_count": 1,
   "metadata": {
    "collapsed": true
   },
   "outputs": [],
   "source": [
    "import random as rn\n",
    "import numpy as np\n",
    "import time"
   ]
  },
  {
   "cell_type": "code",
   "execution_count": 2,
   "metadata": {
    "collapsed": false
   },
   "outputs": [
    {
     "name": "stdout",
     "output_type": "stream",
     "text": [
      "Random 5 numbers: [37, 73, 91, 86, 53]\n"
     ]
    }
   ],
   "source": [
    "x = [rn.randint(1,100) for i in range(5)]\n",
    "print('Random 5 numbers:',x)"
   ]
  },
  {
   "cell_type": "markdown",
   "metadata": {},
   "source": [
    "## 2.產生N個介於-1與1之間的亂數，計算其平均值與標準差並輸出，每個亂數的值則不用輸出。\n",
    "##     N=10^1, 10^2, 10^3, 10^4, 10^5。"
   ]
  },
  {
   "cell_type": "code",
   "execution_count": 3,
   "metadata": {
    "collapsed": true
   },
   "outputs": [],
   "source": [
    "def Generator(N):\n",
    "    X = [(rn.random()-0.5)*2 for i in range(N)]\n",
    "    Mean = sum(X)/N\n",
    "    SD = np.std(X)\n",
    "    print(N, 'numbers', 'Mean:', Mean, 'SD:',SD)"
   ]
  },
  {
   "cell_type": "code",
   "execution_count": 4,
   "metadata": {
    "collapsed": false
   },
   "outputs": [],
   "source": [
    "N = [10**1,10**2, 10**3, 10**4, 10**5]"
   ]
  },
  {
   "cell_type": "code",
   "execution_count": 5,
   "metadata": {
    "collapsed": false
   },
   "outputs": [
    {
     "name": "stdout",
     "output_type": "stream",
     "text": [
      "10 numbers Mean: 0.05178784441788187 SD: 0.44390855751\n",
      "100 numbers Mean: 0.04754108308199876 SD: 0.59291694929\n",
      "1000 numbers Mean: 0.015035609675168931 SD: 0.573246749249\n",
      "10000 numbers Mean: 0.0012145369755242636 SD: 0.57800505946\n",
      "100000 numbers Mean: -0.0018908851449471427 SD: 0.577392754609\n"
     ]
    }
   ],
   "source": [
    "for num in N:\n",
    "    Generator(num)"
   ]
  },
  {
   "cell_type": "markdown",
   "metadata": {},
   "source": [
    "## 1.做基本題2時，一併輸出產生每N個亂數前後的系統時間，並計算所需的時間"
   ]
  },
  {
   "cell_type": "code",
   "execution_count": 9,
   "metadata": {
    "collapsed": true
   },
   "outputs": [],
   "source": [
    "def Generator_plusT(N):\n",
    "    T = time.time()\n",
    "    X = [(rn.random()-0.5)*2 for i in range(N)]\n",
    "    Mean = sum(X)/N\n",
    "    SD = np.std(X)\n",
    "    T_ = time.time()\n",
    "    print(N, 'numbers', 'Mean:', Mean, 'SD:',SD,'Time Cost:', T_-T)"
   ]
  },
  {
   "cell_type": "code",
   "execution_count": 10,
   "metadata": {
    "collapsed": false
   },
   "outputs": [
    {
     "name": "stdout",
     "output_type": "stream",
     "text": [
      "10 numbers Mean: -0.08389043449574181 SD: 0.533774820799 Time Cost: 0.00031304359436035156\n",
      "100 numbers Mean: 0.02795960848186926 SD: 0.576011349053 Time Cost: 0.00020003318786621094\n",
      "1000 numbers Mean: -0.01638346568225237 SD: 0.571972062387 Time Cost: 0.0004112720489501953\n",
      "10000 numbers Mean: 0.007783556468448909 SD: 0.576357992259 Time Cost: 0.0035347938537597656\n",
      "100000 numbers Mean: 0.0017431266199803052 SD: 0.577092602473 Time Cost: 0.0422358512878418\n"
     ]
    }
   ],
   "source": [
    "for num in N:\n",
    "    Generator_plusT(num)"
   ]
  },
  {
   "cell_type": "markdown",
   "metadata": {},
   "source": [
    "## 2.自己寫一個亂數產生器。"
   ]
  },
  {
   "cell_type": "code",
   "execution_count": 11,
   "metadata": {
    "collapsed": true
   },
   "outputs": [],
   "source": [
    "def Random():  #Return a random number between 0 and1.\n",
    "    B = time.time()\n",
    "    B_str = str(B).split('.')\n",
    "    L = len(B_str[1])\n",
    "    B = int(B_str[1])\n",
    "    if B % 2 ==0:\n",
    "        B = B_str[1][::-1]\n",
    "        B = int(B)/10**L\n",
    "    else:\n",
    "        B /= 10**L\n",
    "    return B"
   ]
  },
  {
   "cell_type": "code",
   "execution_count": 12,
   "metadata": {
    "collapsed": false
   },
   "outputs": [],
   "source": [
    "def myGenerator(N):\n",
    "    T = time.time()\n",
    "    X = [Random() for i in range(N)]\n",
    "    Mean = sum(X)/N\n",
    "    SD = np.std(X)\n",
    "    T_ = time.time()\n",
    "    print(N, 'numbers', 'Mean:', Mean, 'SD:',SD,'Time Cost:', T_-T)"
   ]
  },
  {
   "cell_type": "code",
   "execution_count": 13,
   "metadata": {
    "collapsed": false
   },
   "outputs": [
    {
     "name": "stdout",
     "output_type": "stream",
     "text": [
      "10 numbers Mean: 0.6920977200000001 SD: 0.226436565572 Time Cost: 0.0001761913299560547\n",
      "100 numbers Mean: 0.714055922 SD: 0.169871872636 Time Cost: 0.0005848407745361328\n",
      "1000 numbers Mean: 0.6829826293 SD: 0.212686428153 Time Cost: 0.004462242126464844\n",
      "10000 numbers Mean: 0.7037589384500031 SD: 0.226297003833 Time Cost: 0.06615591049194336\n",
      "100000 numbers Mean: 0.4493022169219989 SD: 0.298093849493 Time Cost: 0.5950288772583008\n",
      "1000000 numbers Mean: 0.5199096325592232 SD: 0.278055646016 Time Cost: 5.914984941482544\n"
     ]
    }
   ],
   "source": [
    "N = [10**1,10**2, 10**3, 10**4, 10**5,10**6]\n",
    "for num in N:\n",
    "    myGenerator(num)"
   ]
  },
  {
   "cell_type": "code",
   "execution_count": null,
   "metadata": {
    "collapsed": true
   },
   "outputs": [],
   "source": []
  }
 ],
 "metadata": {
  "kernelspec": {
   "display_name": "Python 3",
   "language": "python",
   "name": "python3"
  },
  "language_info": {
   "codemirror_mode": {
    "name": "ipython",
    "version": 3
   },
   "file_extension": ".py",
   "mimetype": "text/x-python",
   "name": "python",
   "nbconvert_exporter": "python",
   "pygments_lexer": "ipython3",
   "version": "3.6.0"
  }
 },
 "nbformat": 4,
 "nbformat_minor": 2
}
